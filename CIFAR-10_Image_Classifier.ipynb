{
 "cells": [
  {
   "cell_type": "markdown",
   "metadata": {},
   "source": [
    "# Introduction\n",
    "\n",
    "In this project, you will build a neural network of your own design to evaluate the CIFAR-10 dataset.\n",
    "Our target accuracy is 70%, but any accuracy over 50% is a great start.\n",
    "Some of the benchmark results on CIFAR-10 include:\n",
    "\n",
    "78.9% Accuracy | [Deep Belief Networks; Krizhevsky, 2010](https://www.cs.toronto.edu/~kriz/conv-cifar10-aug2010.pdf)\n",
    "\n",
    "90.6% Accuracy | [Maxout Networks; Goodfellow et al., 2013](https://arxiv.org/pdf/1302.4389.pdf)\n",
    "\n",
    "96.0% Accuracy | [Wide Residual Networks; Zagoruyko et al., 2016](https://arxiv.org/pdf/1605.07146.pdf)\n",
    "\n",
    "99.0% Accuracy | [GPipe; Huang et al., 2018](https://arxiv.org/pdf/1811.06965.pdf)\n",
    "\n",
    "98.5% Accuracy | [Rethinking Recurrent Neural Networks and other Improvements for ImageClassification; Nguyen et al., 2020](https://arxiv.org/pdf/2007.15161.pdf)\n",
    "\n",
    "Research with this dataset is ongoing. Notably, many of these networks are quite large and quite expensive to train. \n",
    "\n",
    "## Imports"
   ]
  },
  {
   "cell_type": "code",
   "execution_count": 1,
   "metadata": {},
   "outputs": [],
   "source": [
    "## This cell contains the essential imports you will need – DO NOT CHANGE THE CONTENTS! ##\n",
    "import torch\n",
    "import torch.nn as nn\n",
    "import torch.optim as optim\n",
    "from   torchvision import datasets, transforms, models\n",
    "import matplotlib.pyplot as plt\n",
    "\n",
    "from collections import OrderedDict"
   ]
  },
  {
   "cell_type": "markdown",
   "metadata": {},
   "source": [
    "## Helper Functions"
   ]
  },
  {
   "cell_type": "code",
   "execution_count": 2,
   "metadata": {},
   "outputs": [],
   "source": [
    "def check_gpu():\n",
    "    '''\n",
    "        :None\n",
    "        This function only serves to help the user understand if their machine is capable of running on the gpu\n",
    "    '''\n",
    "\n",
    "    # Check if GPU/CUDA capability is even possible with the downloaded version of torch\n",
    "\n",
    "    # Verify that the GPU is available\n",
    "    print(\"Torch version:\",torch.__version__)\n",
    "    print(\"Is CUDA enabled?\",torch.cuda.is_available())\n",
    "\n",
    "    return None"
   ]
  },
  {
   "cell_type": "code",
   "execution_count": 3,
   "metadata": {},
   "outputs": [],
   "source": [
    "# check_gpu()"
   ]
  },
  {
   "cell_type": "markdown",
   "metadata": {},
   "source": [
    "## Load the Dataset\n",
    "\n",
    "Specify your transforms as a list first.\n",
    "The transforms module is already loaded as `transforms`.\n",
    "\n",
    "CIFAR-10 is fortunately included in the torchvision module.\n",
    "Then, you can create your dataset using the `CIFAR10` object from `torchvision.datasets` ([the documentation is available here](https://pytorch.org/docs/stable/torchvision/datasets.html#cifar)).\n",
    "Make sure to specify `download=True`! \n",
    "\n",
    "Once your dataset is created, you'll also need to define a `DataLoader` from the `torch.utils.data` module for both the train and the test set."
   ]
  },
  {
   "cell_type": "code",
   "execution_count": 4,
   "metadata": {},
   "outputs": [
    {
     "name": "stdout",
     "output_type": "stream",
     "text": [
      "Files already downloaded and verified\n",
      "Files already downloaded and verified\n"
     ]
    }
   ],
   "source": [
    "data_path = './'\n",
    "batch_size = 64\n",
    "\n",
    "# Define transforms\n",
    "# transforms.RandomCrop(32, padding=4)\n",
    "\n",
    "data_transform_train = transforms.Compose([transforms.RandomRotation(15),\n",
    "                                           transforms.RandomHorizontalFlip(0.3),\n",
    "                                           transforms.RandomVerticalFlip(0.3),\n",
    "                                           transforms.RandomCrop(32,padding=4),\n",
    "                                           transforms.ToTensor(),\n",
    "                                           transforms.Normalize([0.485, 0.456, 0.406],\n",
    "                                                                [0.229, 0.224, 0.225])])\n",
    "\n",
    "data_transform_valid = transforms.Compose([transforms.ToTensor(),\n",
    "                                            transforms.Normalize([0.485, 0.456, 0.406],\n",
    "                                                                 [0.229, 0.224, 0.225])])\n",
    "\n",
    "data_transform_test = transforms.Compose([transforms.ToTensor(),\n",
    "                                          transforms.Normalize([0.485, 0.456, 0.406],\n",
    "                                                               [0.229, 0.224, 0.225])])\n",
    "\n",
    "# Create training set\n",
    "image_datasets_train = datasets.CIFAR10(data_path, train=True, download=True, transform=data_transform_train)\n",
    "\n",
    "# Create validation set\n",
    "val_size = int(0.1 * len(image_datasets_train))\n",
    "train_size = len(image_datasets_train) - val_size\n",
    "image_datasets_train, image_datasets_valid = torch.utils.data.random_split(image_datasets_train, [train_size, val_size])\n",
    "\n",
    "image_datasets_valid.dataset.transform = data_transform_valid\n",
    "\n",
    "# Dataloaders for train and valid datasets\n",
    "dataloaders_train = torch.utils.data.DataLoader(image_datasets_train, batch_size=batch_size, shuffle=True)\n",
    "dataloaders_valid = torch.utils.data.DataLoader(image_datasets_valid, batch_size=batch_size)\n",
    "\n",
    "# Create test set and define test dataloader\n",
    "image_datasets_test  = datasets.CIFAR10(data_path, train=False, download=True, transform=data_transform_test)\n",
    "dataloaders_test    = torch.utils.data.DataLoader(image_datasets_test, batch_size=batch_size)\n",
    "\n",
    "# The 10 classes in the dataset\n",
    "classes = ('plane', 'car', 'bird', 'cat', 'deer', 'dog', 'frog', 'horse', 'ship', 'truck')"
   ]
  },
  {
   "cell_type": "markdown",
   "metadata": {},
   "source": [
    "## Explore the Dataset\n",
    "Using matplotlib, numpy, and torch, explore the dimensions of your data.\n",
    "\n",
    "You can view images using the `show5` function defined below – it takes a data loader as an argument.\n",
    "Remember that normalized images will look really weird to you! You may want to try changing your transforms to view images.\n",
    "Typically using no transforms other than `toTensor()` works well for viewing – but not as well for training your network.\n",
    "If `show5` doesn't work, go back and check your code for creating your data loaders and your training/test sets."
   ]
  },
  {
   "cell_type": "code",
   "execution_count": 5,
   "metadata": {},
   "outputs": [],
   "source": [
    "def show5(img_loader):\n",
    "    dataiter = iter(img_loader)\n",
    "    \n",
    "    batch = next(dataiter)\n",
    "    labels = batch[1][0:5]\n",
    "    images = batch[0][0:5]\n",
    "    for i in range(5):\n",
    "        print(classes[labels[i]])\n",
    "    \n",
    "        image = images[i].numpy()\n",
    "        plt.imshow(image.T)\n",
    "        plt.show()"
   ]
  },
  {
   "cell_type": "code",
   "execution_count": 6,
   "metadata": {},
   "outputs": [
    {
     "data": {
      "text/plain": [
       "torch.Size([3, 32, 32])"
      ]
     },
     "execution_count": 6,
     "metadata": {},
     "output_type": "execute_result"
    }
   ],
   "source": [
    "# Exploring an individual image\n",
    "img, lab = image_datasets_valid[0]\n",
    "img.shape"
   ]
  },
  {
   "cell_type": "markdown",
   "metadata": {},
   "source": [
    "Each of the images is 3 x 32 x 32. Where the 3 is a 3-channel RGB image and the 32x32 is the number of pixels for each image."
   ]
  },
  {
   "cell_type": "code",
   "execution_count": 7,
   "metadata": {},
   "outputs": [
    {
     "name": "stderr",
     "output_type": "stream",
     "text": [
      "Clipping input data to the valid range for imshow with RGB data ([0..1] for floats or [0..255] for integers).\n"
     ]
    },
    {
     "name": "stdout",
     "output_type": "stream",
     "text": [
      "cat\n"
     ]
    },
    {
     "data": {
      "image/png": "[encoded data removed]",
      "text/plain": [
       "<Figure size 640x480 with 1 Axes>"
      ]
     },
     "metadata": {},
     "output_type": "display_data"
    },
    {
     "name": "stderr",
     "output_type": "stream",
     "text": [
      "Clipping input data to the valid range for imshow with RGB data ([0..1] for floats or [0..255] for integers).\n"
     ]
    },
    {
     "name": "stdout",
     "output_type": "stream",
     "text": [
      "ship\n"
     ]
    },
    {
     "data": {
      "image/png": "[encoded data removed]",
      "text/plain": [
       "<Figure size 640x480 with 1 Axes>"
      ]
     },
     "metadata": {},
     "output_type": "display_data"
    },
    {
     "name": "stderr",
     "output_type": "stream",
     "text": [
      "Clipping input data to the valid range for imshow with RGB data ([0..1] for floats or [0..255] for integers).\n"
     ]
    },
    {
     "name": "stdout",
     "output_type": "stream",
     "text": [
      "ship\n"
     ]
    },
    {
     "data": {
      "image/png": "[encoded data removed]",
      "text/plain": [
       "<Figure size 640x480 with 1 Axes>"
      ]
     },
     "metadata": {},
     "output_type": "display_data"
    },
    {
     "name": "stderr",
     "output_type": "stream",
     "text": [
      "Clipping input data to the valid range for imshow with RGB data ([0..1] for floats or [0..255] for integers).\n"
     ]
    },
    {
     "name": "stdout",
     "output_type": "stream",
     "text": [
      "plane\n"
     ]
    },
    {
     "data": {
      "image/png": "[encoded data removed]",
      "text/plain": [
       "<Figure size 640x480 with 1 Axes>"
      ]
     },
     "metadata": {},
     "output_type": "display_data"
    },
    {
     "name": "stderr",
     "output_type": "stream",
     "text": [
      "Clipping input data to the valid range for imshow with RGB data ([0..1] for floats or [0..255] for integers).\n"
     ]
    },
    {
     "name": "stdout",
     "output_type": "stream",
     "text": [
      "frog\n"
     ]
    },
    {
     "data": {
      "image/png": "[encoded data removed]",
      "text/plain": [
       "<Figure size 640x480 with 1 Axes>"
      ]
     },
     "metadata": {},
     "output_type": "display_data"
    }
   ],
   "source": [
    "# Explore data\n",
    "show5(dataloaders_test)"
   ]
  },
  {
   "cell_type": "markdown",
   "metadata": {},
   "source": [
    "## Build your Neural Network\n",
    "Using the layers in `torch.nn` (which has been imported as `nn`) and the `torch.nn.functional` module (imported as `F`), construct a neural network based on the parameters of the dataset. \n",
    "Feel free to construct a model of any architecture – feedforward, convolutional, or even something more advanced!"
   ]
  },
  {
   "cell_type": "code",
   "execution_count": 8,
   "metadata": {},
   "outputs": [],
   "source": [
    "## YOUR CODE HERE ##\n",
    "\n",
    "# I am going to train an existing neural network from torchvision.models\n",
    "# By using preexisting neural networks you can leverage a lot of computing power in order to train a vast majority of the weights\n",
    "# and then alter the end of the neural network to fit the specific problem that you are working with\n",
    "\n",
    "weightsvgg16 = models.VGG16_Weights.DEFAULT\n",
    "vgg16 = models.vgg16(weights=weightsvgg16)\n",
    "\n",
    "# Freeze Parameters so we don't back prop through them\n",
    "for param in vgg16.parameters():\n",
    "    param.requires_grad = False\n",
    "\n",
    "\n",
    "classifier = nn.Sequential(OrderedDict([\n",
    "    ('fc1', nn.Linear(25088, 2500)),\n",
    "    ('relu1', nn.ReLU()),\n",
    "    ('dropout1', nn.Dropout(0.2)),\n",
    "    ('fc2', nn.Linear(2500, 1024)),\n",
    "    ('relu2', nn.ReLU()),\n",
    "    ('dropout2', nn.Dropout(0.2)),\n",
    "    ('fc3', nn.Linear(1024,256)),\n",
    "    ('relu3', nn.ReLU()),\n",
    "    ('dropout3', nn.Dropout(0.2)),\n",
    "    ('fc4', nn.Linear(256,10)),\n",
    "    ('output1', nn.LogSoftmax(dim=1))\n",
    "]))\n",
    "\n",
    "# Now we need to assign this custom fully connected to our model\n",
    "vgg16.classifier = classifier"
   ]
  },
  {
   "cell_type": "markdown",
   "metadata": {},
   "source": [
    "Specify a loss function and an optimizer, and instantiate the model.\n",
    "\n",
    "If you use a less common loss function, please note why you chose that loss function in a comment."
   ]
  },
  {
   "cell_type": "code",
   "execution_count": 9,
   "metadata": {},
   "outputs": [],
   "source": [
    "## YOUR CODE HERE ##\n",
    "# Since we are using a log softmax as the final output of our fully connected layer we need to use something like the NLLLoss() criterion\n",
    "criterion = nn.NLLLoss()\n",
    "optimizer = optim.Adam(vgg16.classifier.parameters(), lr=0.001)\n",
    "model = vgg16"
   ]
  },
  {
   "cell_type": "markdown",
   "metadata": {},
   "source": [
    "## Running your Neural Network\n",
    "Use whatever method you like to train your neural network, and ensure you record the average loss at each epoch. \n",
    "Don't forget to use `torch.device()` and the `.to()` method for both your model and your data if you are using GPU!\n",
    "\n",
    "If you want to print your loss during each epoch, you can use the `enumerate` function and print the loss after a set number of batches. 250 batches works well for most people!"
   ]
  },
  {
   "cell_type": "code",
   "execution_count": 10,
   "metadata": {},
   "outputs": [
    {
     "name": "stdout",
     "output_type": "stream",
     "text": [
      "Epoch 1/5.. Train loss: 2.307.. Valid loss: 1.747.. Valid accuracy: 0.396\n",
      "Epoch 1/5.. Train loss: 1.563.. Valid loss: 1.515.. Valid accuracy: 0.492\n",
      "Epoch 1/5.. Train loss: 1.372.. Valid loss: 1.375.. Valid accuracy: 0.521\n",
      "Epoch 1/5.. Train loss: 1.358.. Valid loss: 1.276.. Valid accuracy: 0.559\n",
      "Epoch 1/5.. Train loss: 1.270.. Valid loss: 1.288.. Valid accuracy: 0.554\n",
      "Epoch 1/5.. Train loss: 1.189.. Valid loss: 1.237.. Valid accuracy: 0.566\n",
      "Epoch 1/5.. Train loss: 1.149.. Valid loss: 1.190.. Valid accuracy: 0.600\n",
      "Epoch 1/5.. Train loss: 1.147.. Valid loss: 1.251.. Valid accuracy: 0.568\n",
      "Epoch 1/5.. Train loss: 1.090.. Valid loss: 1.188.. Valid accuracy: 0.585\n",
      "Epoch 1/5.. Train loss: 1.101.. Valid loss: 1.283.. Valid accuracy: 0.566\n",
      "Epoch 1/5.. Train loss: 1.228.. Valid loss: 1.224.. Valid accuracy: 0.571\n",
      "Epoch 1/5.. Train loss: 1.206.. Valid loss: 1.208.. Valid accuracy: 0.575\n",
      "Epoch 1/5.. Train loss: 1.150.. Valid loss: 1.160.. Valid accuracy: 0.596\n",
      "Epoch 1/5.. Train loss: 1.155.. Valid loss: 1.200.. Valid accuracy: 0.592\n",
      "Epoch 1/5.. Train loss: 1.013.. Valid loss: 1.167.. Valid accuracy: 0.608\n",
      "Epoch 1/5.. Train loss: 1.171.. Valid loss: 1.225.. Valid accuracy: 0.582\n",
      "Epoch 1/5.. Train loss: 1.042.. Valid loss: 1.157.. Valid accuracy: 0.610\n",
      "Epoch 1/5.. Train loss: 1.038.. Valid loss: 1.186.. Valid accuracy: 0.607\n",
      "Epoch 1/5.. Train loss: 1.138.. Valid loss: 1.131.. Valid accuracy: 0.605\n",
      "Epoch 1/5.. Train loss: 1.106.. Valid loss: 1.114.. Valid accuracy: 0.619\n",
      "Epoch 1/5.. Train loss: 1.095.. Valid loss: 1.128.. Valid accuracy: 0.617\n",
      "Epoch 1/5.. Train loss: 1.028.. Valid loss: 1.181.. Valid accuracy: 0.611\n",
      "Epoch 1/5.. Train loss: 1.095.. Valid loss: 1.144.. Valid accuracy: 0.605\n",
      "Epoch 1/5.. Train loss: 1.040.. Valid loss: 1.178.. Valid accuracy: 0.616\n",
      "Epoch 1/5.. Train loss: 1.079.. Valid loss: 1.161.. Valid accuracy: 0.608\n",
      "Epoch 1/5.. Train loss: 1.117.. Valid loss: 1.146.. Valid accuracy: 0.608\n",
      "Epoch 1/5.. Train loss: 1.088.. Valid loss: 1.112.. Valid accuracy: 0.625\n",
      "Epoch 1/5.. Train loss: 1.013.. Valid loss: 1.101.. Valid accuracy: 0.622\n",
      "Epoch 1/5.. Train loss: 1.081.. Valid loss: 1.132.. Valid accuracy: 0.608\n",
      "Epoch 1/5.. Train loss: 1.084.. Valid loss: 1.116.. Valid accuracy: 0.621\n",
      "Epoch 1/5.. Train loss: 1.091.. Valid loss: 1.105.. Valid accuracy: 0.618\n",
      "Epoch 1/5.. Train loss: 0.970.. Valid loss: 1.144.. Valid accuracy: 0.615\n",
      "Epoch 1/5.. Train loss: 1.110.. Valid loss: 1.091.. Valid accuracy: 0.635\n",
      "Epoch 1/5.. Train loss: 1.110.. Valid loss: 1.127.. Valid accuracy: 0.616\n",
      "Epoch 1/5.. Train loss: 1.096.. Valid loss: 1.086.. Valid accuracy: 0.630\n",
      "Epoch 1/5.. Train loss: 0.951.. Valid loss: 1.127.. Valid accuracy: 0.625\n",
      "Epoch 1/5.. Train loss: 1.101.. Valid loss: 1.078.. Valid accuracy: 0.631\n",
      "Epoch 1/5.. Train loss: 0.992.. Valid loss: 1.080.. Valid accuracy: 0.629\n",
      "Epoch 1/5.. Train loss: 1.047.. Valid loss: 1.063.. Valid accuracy: 0.639\n",
      "Epoch 1/5.. Train loss: 1.111.. Valid loss: 1.041.. Valid accuracy: 0.637\n",
      "Epoch 1/5.. Train loss: 0.990.. Valid loss: 1.106.. Valid accuracy: 0.624\n",
      "Epoch 1/5.. Train loss: 1.077.. Valid loss: 1.097.. Valid accuracy: 0.620\n",
      "Epoch 1/5.. Train loss: 0.965.. Valid loss: 1.079.. Valid accuracy: 0.629\n",
      "Epoch 1/5.. Train loss: 1.063.. Valid loss: 1.128.. Valid accuracy: 0.607\n",
      "Epoch 1/5.. Train loss: 0.943.. Valid loss: 1.133.. Valid accuracy: 0.618\n",
      "Epoch 1/5.. Train loss: 1.027.. Valid loss: 1.088.. Valid accuracy: 0.621\n",
      "Epoch 1/5.. Train loss: 1.016.. Valid loss: 1.061.. Valid accuracy: 0.640\n",
      "Epoch 1/5.. Train loss: 0.971.. Valid loss: 1.086.. Valid accuracy: 0.631\n",
      "Epoch 1/5.. Train loss: 0.985.. Valid loss: 1.102.. Valid accuracy: 0.624\n",
      "Epoch 1/5.. Train loss: 1.043.. Valid loss: 1.101.. Valid accuracy: 0.632\n",
      "Epoch 1/5.. Train loss: 0.967.. Valid loss: 1.070.. Valid accuracy: 0.628\n",
      "Epoch 1/5.. Train loss: 0.955.. Valid loss: 1.055.. Valid accuracy: 0.628\n",
      "Epoch 1/5.. Train loss: 1.035.. Valid loss: 1.053.. Valid accuracy: 0.630\n",
      "Epoch 1/5.. Train loss: 0.937.. Valid loss: 1.076.. Valid accuracy: 0.634\n",
      "Epoch 1/5.. Train loss: 1.065.. Valid loss: 1.049.. Valid accuracy: 0.642\n",
      "Epoch 1/5.. Train loss: 1.046.. Valid loss: 1.059.. Valid accuracy: 0.637\n",
      "Epoch 1/5.. Train loss: 0.941.. Valid loss: 1.100.. Valid accuracy: 0.630\n",
      "Epoch 1/5.. Train loss: 0.983.. Valid loss: 1.053.. Valid accuracy: 0.643\n",
      "Epoch 1/5.. Train loss: 0.904.. Valid loss: 1.054.. Valid accuracy: 0.650\n",
      "Epoch 1/5.. Train loss: 1.095.. Valid loss: 1.057.. Valid accuracy: 0.650\n",
      "Epoch 1/5.. Train loss: 0.977.. Valid loss: 1.056.. Valid accuracy: 0.641\n",
      "Epoch 1/5.. Train loss: 0.997.. Valid loss: 1.087.. Valid accuracy: 0.634\n",
      "Epoch 1/5.. Train loss: 1.017.. Valid loss: 1.090.. Valid accuracy: 0.635\n",
      "Epoch 1/5.. Train loss: 1.026.. Valid loss: 1.046.. Valid accuracy: 0.643\n",
      "Epoch 1/5.. Train loss: 1.066.. Valid loss: 1.052.. Valid accuracy: 0.648\n",
      "Epoch 1/5.. Train loss: 1.040.. Valid loss: 1.057.. Valid accuracy: 0.634\n",
      "Epoch 1/5.. Train loss: 0.942.. Valid loss: 1.038.. Valid accuracy: 0.652\n",
      "Epoch 1/5.. Train loss: 1.031.. Valid loss: 1.047.. Valid accuracy: 0.649\n",
      "Epoch 1/5.. Train loss: 1.040.. Valid loss: 1.087.. Valid accuracy: 0.630\n",
      "Epoch 1/5.. Train loss: 0.965.. Valid loss: 1.023.. Valid accuracy: 0.650\n",
      "Epoch 2/5.. Train loss: 1.029.. Valid loss: 1.100.. Valid accuracy: 0.631\n",
      "Epoch 2/5.. Train loss: 0.943.. Valid loss: 1.055.. Valid accuracy: 0.645\n",
      "Epoch 2/5.. Train loss: 0.923.. Valid loss: 1.043.. Valid accuracy: 0.654\n",
      "Epoch 2/5.. Train loss: 0.982.. Valid loss: 1.049.. Valid accuracy: 0.648\n",
      "Epoch 2/5.. Train loss: 0.872.. Valid loss: 1.046.. Valid accuracy: 0.648\n",
      "Epoch 2/5.. Train loss: 0.929.. Valid loss: 1.056.. Valid accuracy: 0.653\n",
      "Epoch 2/5.. Train loss: 0.822.. Valid loss: 1.095.. Valid accuracy: 0.649\n",
      "Epoch 2/5.. Train loss: 0.849.. Valid loss: 1.063.. Valid accuracy: 0.644\n",
      "Epoch 2/5.. Train loss: 0.912.. Valid loss: 1.049.. Valid accuracy: 0.652\n",
      "Epoch 2/5.. Train loss: 0.943.. Valid loss: 1.021.. Valid accuracy: 0.658\n",
      "Epoch 2/5.. Train loss: 0.906.. Valid loss: 1.024.. Valid accuracy: 0.654\n",
      "Epoch 2/5.. Train loss: 0.874.. Valid loss: 1.041.. Valid accuracy: 0.659\n",
      "Epoch 2/5.. Train loss: 0.903.. Valid loss: 1.016.. Valid accuracy: 0.658\n",
      "Epoch 2/5.. Train loss: 0.915.. Valid loss: 1.032.. Valid accuracy: 0.654\n",
      "Epoch 2/5.. Train loss: 0.910.. Valid loss: 1.069.. Valid accuracy: 0.649\n",
      "Epoch 2/5.. Train loss: 0.913.. Valid loss: 1.044.. Valid accuracy: 0.649\n",
      "Epoch 2/5.. Train loss: 0.932.. Valid loss: 1.024.. Valid accuracy: 0.656\n",
      "Epoch 2/5.. Train loss: 0.815.. Valid loss: 1.055.. Valid accuracy: 0.654\n",
      "Epoch 2/5.. Train loss: 0.920.. Valid loss: 1.083.. Valid accuracy: 0.637\n",
      "Epoch 2/5.. Train loss: 0.808.. Valid loss: 1.056.. Valid accuracy: 0.647\n",
      "Epoch 2/5.. Train loss: 0.844.. Valid loss: 1.082.. Valid accuracy: 0.644\n",
      "Epoch 2/5.. Train loss: 0.925.. Valid loss: 1.080.. Valid accuracy: 0.639\n",
      "Epoch 2/5.. Train loss: 0.949.. Valid loss: 1.051.. Valid accuracy: 0.649\n",
      "Epoch 2/5.. Train loss: 0.879.. Valid loss: 1.067.. Valid accuracy: 0.647\n",
      "Epoch 2/5.. Train loss: 0.944.. Valid loss: 1.088.. Valid accuracy: 0.634\n",
      "Epoch 2/5.. Train loss: 1.010.. Valid loss: 1.046.. Valid accuracy: 0.645\n",
      "Epoch 2/5.. Train loss: 0.908.. Valid loss: 1.032.. Valid accuracy: 0.648\n",
      "Epoch 2/5.. Train loss: 0.909.. Valid loss: 1.015.. Valid accuracy: 0.661\n",
      "Epoch 2/5.. Train loss: 0.789.. Valid loss: 1.043.. Valid accuracy: 0.653\n",
      "Epoch 2/5.. Train loss: 0.875.. Valid loss: 1.052.. Valid accuracy: 0.651\n",
      "Epoch 2/5.. Train loss: 0.891.. Valid loss: 1.041.. Valid accuracy: 0.656\n",
      "Epoch 2/5.. Train loss: 0.845.. Valid loss: 1.023.. Valid accuracy: 0.657\n",
      "Epoch 2/5.. Train loss: 0.942.. Valid loss: 0.994.. Valid accuracy: 0.661\n",
      "Epoch 2/5.. Train loss: 0.864.. Valid loss: 1.065.. Valid accuracy: 0.644\n",
      "Epoch 2/5.. Train loss: 0.959.. Valid loss: 1.056.. Valid accuracy: 0.643\n",
      "Epoch 2/5.. Train loss: 0.880.. Valid loss: 1.034.. Valid accuracy: 0.654\n",
      "Epoch 2/5.. Train loss: 0.903.. Valid loss: 1.066.. Valid accuracy: 0.647\n",
      "Epoch 2/5.. Train loss: 0.875.. Valid loss: 1.034.. Valid accuracy: 0.656\n",
      "Epoch 2/5.. Train loss: 0.907.. Valid loss: 1.057.. Valid accuracy: 0.652\n",
      "Epoch 2/5.. Train loss: 0.934.. Valid loss: 1.065.. Valid accuracy: 0.649\n",
      "Epoch 2/5.. Train loss: 0.853.. Valid loss: 1.020.. Valid accuracy: 0.660\n",
      "Epoch 2/5.. Train loss: 0.839.. Valid loss: 1.034.. Valid accuracy: 0.656\n",
      "Epoch 2/5.. Train loss: 0.853.. Valid loss: 1.019.. Valid accuracy: 0.649\n",
      "Epoch 2/5.. Train loss: 0.919.. Valid loss: 1.025.. Valid accuracy: 0.658\n",
      "Epoch 2/5.. Train loss: 0.841.. Valid loss: 1.062.. Valid accuracy: 0.643\n",
      "Epoch 2/5.. Train loss: 0.947.. Valid loss: 1.054.. Valid accuracy: 0.654\n",
      "Epoch 2/5.. Train loss: 0.937.. Valid loss: 1.057.. Valid accuracy: 0.638\n",
      "Epoch 2/5.. Train loss: 0.910.. Valid loss: 1.049.. Valid accuracy: 0.661\n",
      "Epoch 2/5.. Train loss: 0.890.. Valid loss: 1.029.. Valid accuracy: 0.649\n",
      "Epoch 2/5.. Train loss: 0.879.. Valid loss: 1.029.. Valid accuracy: 0.647\n",
      "Epoch 2/5.. Train loss: 0.899.. Valid loss: 1.038.. Valid accuracy: 0.650\n",
      "Epoch 2/5.. Train loss: 0.969.. Valid loss: 1.020.. Valid accuracy: 0.658\n",
      "Epoch 2/5.. Train loss: 0.894.. Valid loss: 1.035.. Valid accuracy: 0.652\n",
      "Epoch 2/5.. Train loss: 0.926.. Valid loss: 1.023.. Valid accuracy: 0.657\n",
      "Epoch 2/5.. Train loss: 0.902.. Valid loss: 1.078.. Valid accuracy: 0.629\n",
      "Epoch 2/5.. Train loss: 0.875.. Valid loss: 1.028.. Valid accuracy: 0.656\n",
      "Epoch 2/5.. Train loss: 0.858.. Valid loss: 1.005.. Valid accuracy: 0.662\n",
      "Epoch 2/5.. Train loss: 0.862.. Valid loss: 1.010.. Valid accuracy: 0.658\n",
      "Epoch 2/5.. Train loss: 0.914.. Valid loss: 0.992.. Valid accuracy: 0.658\n",
      "Epoch 2/5.. Train loss: 0.881.. Valid loss: 1.013.. Valid accuracy: 0.668\n",
      "Epoch 2/5.. Train loss: 0.854.. Valid loss: 0.997.. Valid accuracy: 0.665\n",
      "Epoch 2/5.. Train loss: 0.930.. Valid loss: 0.998.. Valid accuracy: 0.665\n",
      "Epoch 2/5.. Train loss: 0.920.. Valid loss: 1.014.. Valid accuracy: 0.665\n",
      "Epoch 2/5.. Train loss: 0.920.. Valid loss: 1.027.. Valid accuracy: 0.656\n",
      "Epoch 2/5.. Train loss: 0.920.. Valid loss: 0.984.. Valid accuracy: 0.659\n",
      "Epoch 2/5.. Train loss: 0.911.. Valid loss: 0.998.. Valid accuracy: 0.659\n",
      "Epoch 2/5.. Train loss: 0.939.. Valid loss: 1.006.. Valid accuracy: 0.650\n",
      "Epoch 2/5.. Train loss: 0.879.. Valid loss: 1.025.. Valid accuracy: 0.648\n",
      "Epoch 2/5.. Train loss: 0.853.. Valid loss: 1.023.. Valid accuracy: 0.664\n",
      "Epoch 2/5.. Train loss: 0.981.. Valid loss: 1.008.. Valid accuracy: 0.659\n",
      "Epoch 3/5.. Train loss: 0.783.. Valid loss: 1.008.. Valid accuracy: 0.658\n",
      "Epoch 3/5.. Train loss: 0.753.. Valid loss: 1.075.. Valid accuracy: 0.653\n",
      "Epoch 3/5.. Train loss: 0.726.. Valid loss: 1.083.. Valid accuracy: 0.655\n",
      "Epoch 3/5.. Train loss: 0.828.. Valid loss: 1.021.. Valid accuracy: 0.659\n",
      "Epoch 3/5.. Train loss: 0.733.. Valid loss: 1.033.. Valid accuracy: 0.661\n",
      "Epoch 3/5.. Train loss: 0.716.. Valid loss: 1.090.. Valid accuracy: 0.660\n",
      "Epoch 3/5.. Train loss: 0.775.. Valid loss: 1.092.. Valid accuracy: 0.650\n",
      "Epoch 3/5.. Train loss: 0.791.. Valid loss: 1.049.. Valid accuracy: 0.660\n",
      "Epoch 3/5.. Train loss: 0.861.. Valid loss: 1.044.. Valid accuracy: 0.647\n",
      "Epoch 3/5.. Train loss: 0.775.. Valid loss: 1.040.. Valid accuracy: 0.653\n",
      "Epoch 3/5.. Train loss: 0.786.. Valid loss: 1.017.. Valid accuracy: 0.664\n",
      "Epoch 3/5.. Train loss: 0.800.. Valid loss: 1.044.. Valid accuracy: 0.655\n",
      "Epoch 3/5.. Train loss: 0.782.. Valid loss: 1.015.. Valid accuracy: 0.664\n",
      "Epoch 3/5.. Train loss: 0.765.. Valid loss: 1.012.. Valid accuracy: 0.666\n",
      "Epoch 3/5.. Train loss: 0.708.. Valid loss: 1.107.. Valid accuracy: 0.653\n",
      "Epoch 3/5.. Train loss: 0.773.. Valid loss: 1.064.. Valid accuracy: 0.660\n",
      "Epoch 3/5.. Train loss: 0.851.. Valid loss: 1.057.. Valid accuracy: 0.650\n",
      "Epoch 3/5.. Train loss: 0.797.. Valid loss: 1.053.. Valid accuracy: 0.665\n",
      "Epoch 3/5.. Train loss: 0.761.. Valid loss: 1.055.. Valid accuracy: 0.659\n",
      "Epoch 3/5.. Train loss: 0.743.. Valid loss: 1.067.. Valid accuracy: 0.661\n",
      "Epoch 3/5.. Train loss: 0.856.. Valid loss: 1.059.. Valid accuracy: 0.662\n",
      "Epoch 3/5.. Train loss: 0.785.. Valid loss: 1.054.. Valid accuracy: 0.655\n",
      "Epoch 3/5.. Train loss: 0.806.. Valid loss: 1.037.. Valid accuracy: 0.663\n",
      "Epoch 3/5.. Train loss: 0.792.. Valid loss: 1.034.. Valid accuracy: 0.662\n",
      "Epoch 3/5.. Train loss: 0.857.. Valid loss: 1.030.. Valid accuracy: 0.666\n",
      "Epoch 3/5.. Train loss: 0.752.. Valid loss: 1.011.. Valid accuracy: 0.670\n",
      "Epoch 3/5.. Train loss: 0.776.. Valid loss: 1.006.. Valid accuracy: 0.673\n",
      "Epoch 3/5.. Train loss: 0.805.. Valid loss: 1.045.. Valid accuracy: 0.657\n",
      "Epoch 3/5.. Train loss: 0.839.. Valid loss: 1.026.. Valid accuracy: 0.664\n",
      "Epoch 3/5.. Train loss: 0.830.. Valid loss: 1.036.. Valid accuracy: 0.666\n",
      "Epoch 3/5.. Train loss: 0.777.. Valid loss: 1.059.. Valid accuracy: 0.655\n",
      "Epoch 3/5.. Train loss: 0.842.. Valid loss: 1.028.. Valid accuracy: 0.654\n",
      "Epoch 3/5.. Train loss: 0.771.. Valid loss: 1.019.. Valid accuracy: 0.659\n",
      "Epoch 3/5.. Train loss: 0.803.. Valid loss: 1.059.. Valid accuracy: 0.661\n",
      "Epoch 3/5.. Train loss: 0.762.. Valid loss: 1.085.. Valid accuracy: 0.656\n",
      "Epoch 3/5.. Train loss: 0.833.. Valid loss: 1.073.. Valid accuracy: 0.662\n",
      "Epoch 3/5.. Train loss: 0.846.. Valid loss: 1.038.. Valid accuracy: 0.654\n",
      "Epoch 3/5.. Train loss: 0.821.. Valid loss: 1.024.. Valid accuracy: 0.657\n",
      "Epoch 3/5.. Train loss: 0.771.. Valid loss: 1.056.. Valid accuracy: 0.655\n",
      "Epoch 3/5.. Train loss: 0.715.. Valid loss: 1.035.. Valid accuracy: 0.667\n",
      "Epoch 3/5.. Train loss: 0.721.. Valid loss: 1.055.. Valid accuracy: 0.655\n",
      "Epoch 3/5.. Train loss: 0.794.. Valid loss: 1.003.. Valid accuracy: 0.661\n",
      "Epoch 3/5.. Train loss: 0.767.. Valid loss: 1.066.. Valid accuracy: 0.643\n",
      "Epoch 3/5.. Train loss: 0.779.. Valid loss: 1.035.. Valid accuracy: 0.656\n",
      "Epoch 3/5.. Train loss: 0.800.. Valid loss: 1.038.. Valid accuracy: 0.656\n",
      "Epoch 3/5.. Train loss: 0.787.. Valid loss: 1.028.. Valid accuracy: 0.658\n",
      "Epoch 3/5.. Train loss: 0.830.. Valid loss: 1.024.. Valid accuracy: 0.665\n",
      "Epoch 3/5.. Train loss: 0.788.. Valid loss: 1.024.. Valid accuracy: 0.666\n",
      "Epoch 3/5.. Train loss: 0.872.. Valid loss: 1.010.. Valid accuracy: 0.657\n",
      "Epoch 3/5.. Train loss: 0.778.. Valid loss: 1.027.. Valid accuracy: 0.660\n",
      "Epoch 3/5.. Train loss: 0.765.. Valid loss: 1.023.. Valid accuracy: 0.671\n",
      "Epoch 3/5.. Train loss: 0.891.. Valid loss: 1.005.. Valid accuracy: 0.663\n",
      "Epoch 3/5.. Train loss: 0.833.. Valid loss: 1.010.. Valid accuracy: 0.654\n",
      "Epoch 3/5.. Train loss: 0.785.. Valid loss: 1.003.. Valid accuracy: 0.670\n",
      "Epoch 3/5.. Train loss: 0.872.. Valid loss: 1.041.. Valid accuracy: 0.659\n",
      "Epoch 3/5.. Train loss: 0.744.. Valid loss: 1.009.. Valid accuracy: 0.667\n",
      "Epoch 3/5.. Train loss: 0.839.. Valid loss: 1.019.. Valid accuracy: 0.668\n",
      "Epoch 3/5.. Train loss: 0.814.. Valid loss: 1.016.. Valid accuracy: 0.669\n",
      "Epoch 3/5.. Train loss: 0.836.. Valid loss: 0.979.. Valid accuracy: 0.673\n",
      "Epoch 3/5.. Train loss: 0.822.. Valid loss: 0.980.. Valid accuracy: 0.673\n",
      "Epoch 3/5.. Train loss: 0.779.. Valid loss: 0.998.. Valid accuracy: 0.673\n",
      "Epoch 3/5.. Train loss: 0.863.. Valid loss: 1.009.. Valid accuracy: 0.666\n",
      "Epoch 3/5.. Train loss: 0.761.. Valid loss: 1.014.. Valid accuracy: 0.663\n",
      "Epoch 3/5.. Train loss: 0.846.. Valid loss: 1.015.. Valid accuracy: 0.667\n",
      "Epoch 3/5.. Train loss: 0.852.. Valid loss: 1.046.. Valid accuracy: 0.657\n",
      "Epoch 3/5.. Train loss: 0.860.. Valid loss: 1.037.. Valid accuracy: 0.655\n",
      "Epoch 3/5.. Train loss: 0.756.. Valid loss: 1.006.. Valid accuracy: 0.665\n",
      "Epoch 3/5.. Train loss: 0.835.. Valid loss: 0.994.. Valid accuracy: 0.673\n",
      "Epoch 3/5.. Train loss: 0.840.. Valid loss: 0.984.. Valid accuracy: 0.670\n",
      "Epoch 3/5.. Train loss: 0.809.. Valid loss: 1.000.. Valid accuracy: 0.669\n",
      "Epoch 3/5.. Train loss: 0.783.. Valid loss: 1.009.. Valid accuracy: 0.670\n",
      "Epoch 4/5.. Train loss: 0.761.. Valid loss: 1.060.. Valid accuracy: 0.654\n",
      "Epoch 4/5.. Train loss: 0.722.. Valid loss: 1.047.. Valid accuracy: 0.670\n",
      "Epoch 4/5.. Train loss: 0.677.. Valid loss: 1.093.. Valid accuracy: 0.660\n",
      "Epoch 4/5.. Train loss: 0.714.. Valid loss: 1.026.. Valid accuracy: 0.671\n",
      "Epoch 4/5.. Train loss: 0.628.. Valid loss: 1.057.. Valid accuracy: 0.674\n",
      "Epoch 4/5.. Train loss: 0.688.. Valid loss: 1.064.. Valid accuracy: 0.671\n",
      "Epoch 4/5.. Train loss: 0.703.. Valid loss: 1.086.. Valid accuracy: 0.662\n",
      "Epoch 4/5.. Train loss: 0.649.. Valid loss: 1.060.. Valid accuracy: 0.666\n",
      "Epoch 4/5.. Train loss: 0.687.. Valid loss: 1.093.. Valid accuracy: 0.667\n",
      "Epoch 4/5.. Train loss: 0.641.. Valid loss: 1.075.. Valid accuracy: 0.673\n",
      "Epoch 4/5.. Train loss: 0.669.. Valid loss: 1.063.. Valid accuracy: 0.671\n",
      "Epoch 4/5.. Train loss: 0.662.. Valid loss: 1.048.. Valid accuracy: 0.669\n",
      "Epoch 4/5.. Train loss: 0.690.. Valid loss: 1.041.. Valid accuracy: 0.672\n",
      "Epoch 4/5.. Train loss: 0.647.. Valid loss: 1.058.. Valid accuracy: 0.670\n",
      "Epoch 4/5.. Train loss: 0.693.. Valid loss: 1.060.. Valid accuracy: 0.673\n",
      "Epoch 4/5.. Train loss: 0.607.. Valid loss: 1.096.. Valid accuracy: 0.657\n",
      "Epoch 4/5.. Train loss: 0.675.. Valid loss: 1.141.. Valid accuracy: 0.654\n",
      "Epoch 4/5.. Train loss: 0.677.. Valid loss: 1.108.. Valid accuracy: 0.647\n",
      "Epoch 4/5.. Train loss: 0.668.. Valid loss: 1.151.. Valid accuracy: 0.657\n",
      "Epoch 4/5.. Train loss: 0.695.. Valid loss: 1.071.. Valid accuracy: 0.665\n",
      "Epoch 4/5.. Train loss: 0.763.. Valid loss: 1.049.. Valid accuracy: 0.669\n",
      "Epoch 4/5.. Train loss: 0.685.. Valid loss: 1.076.. Valid accuracy: 0.667\n",
      "Epoch 4/5.. Train loss: 0.706.. Valid loss: 1.048.. Valid accuracy: 0.668\n",
      "Epoch 4/5.. Train loss: 0.681.. Valid loss: 1.076.. Valid accuracy: 0.665\n",
      "Epoch 4/5.. Train loss: 0.751.. Valid loss: 1.084.. Valid accuracy: 0.657\n",
      "Epoch 4/5.. Train loss: 0.782.. Valid loss: 1.036.. Valid accuracy: 0.658\n",
      "Epoch 4/5.. Train loss: 0.721.. Valid loss: 1.038.. Valid accuracy: 0.663\n",
      "Epoch 4/5.. Train loss: 0.732.. Valid loss: 1.052.. Valid accuracy: 0.673\n",
      "Epoch 4/5.. Train loss: 0.639.. Valid loss: 1.100.. Valid accuracy: 0.671\n",
      "Epoch 4/5.. Train loss: 0.816.. Valid loss: 1.050.. Valid accuracy: 0.661\n",
      "Epoch 4/5.. Train loss: 0.727.. Valid loss: 1.023.. Valid accuracy: 0.663\n",
      "Epoch 4/5.. Train loss: 0.717.. Valid loss: 1.072.. Valid accuracy: 0.670\n",
      "Epoch 4/5.. Train loss: 0.694.. Valid loss: 1.113.. Valid accuracy: 0.657\n",
      "Epoch 4/5.. Train loss: 0.716.. Valid loss: 1.073.. Valid accuracy: 0.662\n",
      "Epoch 4/5.. Train loss: 0.693.. Valid loss: 1.104.. Valid accuracy: 0.662\n",
      "Epoch 4/5.. Train loss: 0.759.. Valid loss: 1.060.. Valid accuracy: 0.660\n",
      "Epoch 4/5.. Train loss: 0.677.. Valid loss: 1.049.. Valid accuracy: 0.667\n",
      "Epoch 4/5.. Train loss: 0.741.. Valid loss: 1.072.. Valid accuracy: 0.658\n",
      "Epoch 4/5.. Train loss: 0.763.. Valid loss: 1.050.. Valid accuracy: 0.660\n",
      "Epoch 4/5.. Train loss: 0.676.. Valid loss: 1.072.. Valid accuracy: 0.661\n",
      "Epoch 4/5.. Train loss: 0.714.. Valid loss: 1.073.. Valid accuracy: 0.673\n",
      "Epoch 4/5.. Train loss: 0.738.. Valid loss: 1.063.. Valid accuracy: 0.670\n",
      "Epoch 4/5.. Train loss: 0.693.. Valid loss: 1.053.. Valid accuracy: 0.655\n",
      "Epoch 4/5.. Train loss: 0.658.. Valid loss: 1.065.. Valid accuracy: 0.664\n",
      "Epoch 4/5.. Train loss: 0.772.. Valid loss: 1.069.. Valid accuracy: 0.662\n",
      "Epoch 4/5.. Train loss: 0.759.. Valid loss: 1.035.. Valid accuracy: 0.667\n",
      "Epoch 4/5.. Train loss: 0.748.. Valid loss: 1.029.. Valid accuracy: 0.669\n",
      "Epoch 4/5.. Train loss: 0.726.. Valid loss: 1.035.. Valid accuracy: 0.668\n",
      "Epoch 4/5.. Train loss: 0.761.. Valid loss: 1.041.. Valid accuracy: 0.671\n",
      "Epoch 4/5.. Train loss: 0.737.. Valid loss: 1.046.. Valid accuracy: 0.680\n",
      "Epoch 4/5.. Train loss: 0.732.. Valid loss: 1.077.. Valid accuracy: 0.664\n",
      "Epoch 4/5.. Train loss: 0.741.. Valid loss: 1.077.. Valid accuracy: 0.663\n",
      "Epoch 4/5.. Train loss: 0.713.. Valid loss: 1.085.. Valid accuracy: 0.664\n",
      "Epoch 4/5.. Train loss: 0.775.. Valid loss: 1.077.. Valid accuracy: 0.667\n",
      "Epoch 4/5.. Train loss: 0.743.. Valid loss: 1.083.. Valid accuracy: 0.650\n",
      "Epoch 4/5.. Train loss: 0.720.. Valid loss: 1.080.. Valid accuracy: 0.670\n",
      "Epoch 4/5.. Train loss: 0.740.. Valid loss: 1.111.. Valid accuracy: 0.664\n",
      "Epoch 4/5.. Train loss: 0.758.. Valid loss: 1.087.. Valid accuracy: 0.658\n",
      "Epoch 4/5.. Train loss: 0.702.. Valid loss: 1.082.. Valid accuracy: 0.662\n",
      "Epoch 4/5.. Train loss: 0.776.. Valid loss: 1.100.. Valid accuracy: 0.655\n",
      "Epoch 4/5.. Train loss: 0.712.. Valid loss: 1.067.. Valid accuracy: 0.665\n",
      "Epoch 4/5.. Train loss: 0.745.. Valid loss: 1.062.. Valid accuracy: 0.672\n",
      "Epoch 4/5.. Train loss: 0.737.. Valid loss: 1.035.. Valid accuracy: 0.673\n",
      "Epoch 4/5.. Train loss: 0.763.. Valid loss: 1.019.. Valid accuracy: 0.658\n",
      "Epoch 4/5.. Train loss: 0.712.. Valid loss: 1.023.. Valid accuracy: 0.667\n",
      "Epoch 4/5.. Train loss: 0.771.. Valid loss: 1.048.. Valid accuracy: 0.670\n",
      "Epoch 4/5.. Train loss: 0.736.. Valid loss: 1.038.. Valid accuracy: 0.664\n",
      "Epoch 4/5.. Train loss: 0.735.. Valid loss: 1.020.. Valid accuracy: 0.670\n",
      "Epoch 4/5.. Train loss: 0.680.. Valid loss: 1.085.. Valid accuracy: 0.661\n",
      "Epoch 4/5.. Train loss: 0.695.. Valid loss: 1.103.. Valid accuracy: 0.668\n",
      "Epoch 5/5.. Train loss: 0.723.. Valid loss: 1.078.. Valid accuracy: 0.673\n",
      "Epoch 5/5.. Train loss: 0.641.. Valid loss: 1.076.. Valid accuracy: 0.672\n",
      "Epoch 5/5.. Train loss: 0.636.. Valid loss: 1.085.. Valid accuracy: 0.668\n",
      "Epoch 5/5.. Train loss: 0.563.. Valid loss: 1.114.. Valid accuracy: 0.677\n",
      "Epoch 5/5.. Train loss: 0.484.. Valid loss: 1.181.. Valid accuracy: 0.675\n",
      "Epoch 5/5.. Train loss: 0.620.. Valid loss: 1.187.. Valid accuracy: 0.671\n",
      "Epoch 5/5.. Train loss: 0.547.. Valid loss: 1.097.. Valid accuracy: 0.680\n",
      "Epoch 5/5.. Train loss: 0.580.. Valid loss: 1.133.. Valid accuracy: 0.672\n",
      "Epoch 5/5.. Train loss: 0.564.. Valid loss: 1.171.. Valid accuracy: 0.672\n",
      "Epoch 5/5.. Train loss: 0.589.. Valid loss: 1.130.. Valid accuracy: 0.670\n",
      "Epoch 5/5.. Train loss: 0.624.. Valid loss: 1.103.. Valid accuracy: 0.667\n",
      "Epoch 5/5.. Train loss: 0.562.. Valid loss: 1.122.. Valid accuracy: 0.668\n",
      "Epoch 5/5.. Train loss: 0.595.. Valid loss: 1.120.. Valid accuracy: 0.668\n",
      "Epoch 5/5.. Train loss: 0.581.. Valid loss: 1.174.. Valid accuracy: 0.660\n",
      "Epoch 5/5.. Train loss: 0.622.. Valid loss: 1.181.. Valid accuracy: 0.661\n",
      "Epoch 5/5.. Train loss: 0.641.. Valid loss: 1.092.. Valid accuracy: 0.664\n",
      "Epoch 5/5.. Train loss: 0.655.. Valid loss: 1.114.. Valid accuracy: 0.666\n",
      "Epoch 5/5.. Train loss: 0.615.. Valid loss: 1.084.. Valid accuracy: 0.672\n",
      "Epoch 5/5.. Train loss: 0.662.. Valid loss: 1.059.. Valid accuracy: 0.667\n",
      "Epoch 5/5.. Train loss: 0.605.. Valid loss: 1.097.. Valid accuracy: 0.667\n",
      "Epoch 5/5.. Train loss: 0.596.. Valid loss: 1.105.. Valid accuracy: 0.665\n",
      "Epoch 5/5.. Train loss: 0.676.. Valid loss: 1.106.. Valid accuracy: 0.669\n",
      "Epoch 5/5.. Train loss: 0.596.. Valid loss: 1.118.. Valid accuracy: 0.673\n",
      "Epoch 5/5.. Train loss: 0.646.. Valid loss: 1.128.. Valid accuracy: 0.663\n",
      "Epoch 5/5.. Train loss: 0.583.. Valid loss: 1.128.. Valid accuracy: 0.668\n",
      "Epoch 5/5.. Train loss: 0.638.. Valid loss: 1.119.. Valid accuracy: 0.667\n",
      "Epoch 5/5.. Train loss: 0.604.. Valid loss: 1.112.. Valid accuracy: 0.670\n",
      "Epoch 5/5.. Train loss: 0.664.. Valid loss: 1.083.. Valid accuracy: 0.675\n",
      "Epoch 5/5.. Train loss: 0.561.. Valid loss: 1.074.. Valid accuracy: 0.677\n",
      "Epoch 5/5.. Train loss: 0.666.. Valid loss: 1.081.. Valid accuracy: 0.676\n",
      "Epoch 5/5.. Train loss: 0.600.. Valid loss: 1.118.. Valid accuracy: 0.677\n",
      "Epoch 5/5.. Train loss: 0.572.. Valid loss: 1.121.. Valid accuracy: 0.668\n",
      "Epoch 5/5.. Train loss: 0.645.. Valid loss: 1.113.. Valid accuracy: 0.669\n",
      "Epoch 5/5.. Train loss: 0.601.. Valid loss: 1.119.. Valid accuracy: 0.666\n",
      "Epoch 5/5.. Train loss: 0.577.. Valid loss: 1.177.. Valid accuracy: 0.673\n",
      "Epoch 5/5.. Train loss: 0.578.. Valid loss: 1.138.. Valid accuracy: 0.664\n",
      "Epoch 5/5.. Train loss: 0.682.. Valid loss: 1.096.. Valid accuracy: 0.670\n",
      "Epoch 5/5.. Train loss: 0.589.. Valid loss: 1.128.. Valid accuracy: 0.667\n",
      "Epoch 5/5.. Train loss: 0.710.. Valid loss: 1.137.. Valid accuracy: 0.663\n",
      "Epoch 5/5.. Train loss: 0.598.. Valid loss: 1.139.. Valid accuracy: 0.666\n",
      "Epoch 5/5.. Train loss: 0.666.. Valid loss: 1.104.. Valid accuracy: 0.669\n",
      "Epoch 5/5.. Train loss: 0.606.. Valid loss: 1.155.. Valid accuracy: 0.664\n",
      "Epoch 5/5.. Train loss: 0.626.. Valid loss: 1.110.. Valid accuracy: 0.671\n",
      "Epoch 5/5.. Train loss: 0.680.. Valid loss: 1.101.. Valid accuracy: 0.671\n",
      "Epoch 5/5.. Train loss: 0.691.. Valid loss: 1.088.. Valid accuracy: 0.662\n",
      "Epoch 5/5.. Train loss: 0.625.. Valid loss: 1.091.. Valid accuracy: 0.661\n",
      "Epoch 5/5.. Train loss: 0.598.. Valid loss: 1.129.. Valid accuracy: 0.672\n",
      "Epoch 5/5.. Train loss: 0.602.. Valid loss: 1.135.. Valid accuracy: 0.672\n",
      "Epoch 5/5.. Train loss: 0.641.. Valid loss: 1.128.. Valid accuracy: 0.668\n",
      "Epoch 5/5.. Train loss: 0.638.. Valid loss: 1.096.. Valid accuracy: 0.672\n",
      "Epoch 5/5.. Train loss: 0.690.. Valid loss: 1.060.. Valid accuracy: 0.680\n",
      "Epoch 5/5.. Train loss: 0.614.. Valid loss: 1.132.. Valid accuracy: 0.662\n",
      "Epoch 5/5.. Train loss: 0.711.. Valid loss: 1.080.. Valid accuracy: 0.677\n",
      "Epoch 5/5.. Train loss: 0.609.. Valid loss: 1.139.. Valid accuracy: 0.665\n",
      "Epoch 5/5.. Train loss: 0.707.. Valid loss: 1.090.. Valid accuracy: 0.667\n",
      "Epoch 5/5.. Train loss: 0.647.. Valid loss: 1.092.. Valid accuracy: 0.669\n",
      "Epoch 5/5.. Train loss: 0.657.. Valid loss: 1.112.. Valid accuracy: 0.662\n",
      "Epoch 5/5.. Train loss: 0.669.. Valid loss: 1.101.. Valid accuracy: 0.664\n",
      "Epoch 5/5.. Train loss: 0.606.. Valid loss: 1.096.. Valid accuracy: 0.668\n",
      "Epoch 5/5.. Train loss: 0.770.. Valid loss: 1.063.. Valid accuracy: 0.668\n",
      "Epoch 5/5.. Train loss: 0.632.. Valid loss: 1.056.. Valid accuracy: 0.667\n",
      "Epoch 5/5.. Train loss: 0.681.. Valid loss: 1.103.. Valid accuracy: 0.668\n",
      "Epoch 5/5.. Train loss: 0.664.. Valid loss: 1.076.. Valid accuracy: 0.671\n",
      "Epoch 5/5.. Train loss: 0.719.. Valid loss: 1.053.. Valid accuracy: 0.678\n",
      "Epoch 5/5.. Train loss: 0.630.. Valid loss: 1.063.. Valid accuracy: 0.676\n",
      "Epoch 5/5.. Train loss: 0.644.. Valid loss: 1.082.. Valid accuracy: 0.675\n",
      "Epoch 5/5.. Train loss: 0.645.. Valid loss: 1.098.. Valid accuracy: 0.669\n",
      "Epoch 5/5.. Train loss: 0.625.. Valid loss: 1.096.. Valid accuracy: 0.673\n",
      "Epoch 5/5.. Train loss: 0.635.. Valid loss: 1.094.. Valid accuracy: 0.673\n",
      "Epoch 5/5.. Train loss: 0.696.. Valid loss: 1.084.. Valid accuracy: 0.667\n",
      "Epoch 5/5.. Train loss: 0.659.. Valid loss: 1.081.. Valid accuracy: 0.663\n"
     ]
    }
   ],
   "source": [
    "## YOUR CODE HERE ##\n",
    "path = \"models/VGG16_BestModel_XYZ.pth\"\n",
    "epochs = 5\n",
    "print_every = 10\n",
    "\n",
    "# Move the model over to the appropriate device\n",
    "device = torch.device(\"cuda\" if torch.cuda.is_available() else \"cpu\")\n",
    "model.to(device)\n",
    "\n",
    "# Some initalizations required for training/validating\n",
    "best_valid_loss = float('inf')\n",
    "steps = 0\n",
    "running_loss_train = 0\n",
    "\n",
    "# Let's also add some lists so that we can track losses and accuracies\n",
    "train_losses = []\n",
    "valid_losses = []\n",
    "valid_accuracy = []\n",
    "\n",
    "# An epoch is defined as a single run through of the entire (training) set of data\n",
    "for epoch in range(epochs):\n",
    "\n",
    "    # Put the model into training\n",
    "    model.train()\n",
    "\n",
    "    # dataloaders_train contains 103 'passes' which accounts for ALL images/labels\n",
    "    for images_train, labels_train in dataloaders_train:\n",
    "\n",
    "        # Increment the steps for nice readouts\n",
    "        steps += 1\n",
    "\n",
    "        # Move things over to the GPU!\n",
    "        images_train =  images_train.to(device)\n",
    "        labels_train =  labels_train.to(device)\n",
    "\n",
    "        # The classic pattern\n",
    "        optimizer.zero_grad()\n",
    "        logps = model(images_train)\n",
    "        loss = criterion(logps, labels_train)\n",
    "        loss.backward()\n",
    "        optimizer.step()\n",
    "        running_loss_train += loss.item()\n",
    "\n",
    "        if steps % print_every == 0:\n",
    "\n",
    "            # Put the model into eval mode\n",
    "            model.eval()\n",
    "\n",
    "            with torch.no_grad():\n",
    "\n",
    "                running_loss_valid = 0\n",
    "                accuracy_valid = 0\n",
    "                \n",
    "                for images_valid, labels_valid in dataloaders_valid:\n",
    "\n",
    "                    # Move things over the GPU!\n",
    "                    images_valid = images_valid.to(device)\n",
    "                    labels_valid = labels_valid.to(device)\n",
    "\n",
    "                    logps      = model(images_valid)\n",
    "                    valid_loss = criterion(logps, labels_valid)\n",
    "                    running_loss_valid += valid_loss.item()\n",
    "\n",
    "                    # Calculate Accuracy\n",
    "                    ps = torch.exp(logps)\n",
    "                    top_p, top_class = ps.topk(1, dim=1)\n",
    "                    equal = top_class == labels_valid.view(*top_class.shape)\n",
    "                    accuracy_valid += torch.mean(equal.type(torch.FloatTensor)).item()\n",
    "\n",
    "            rlt = running_loss_train/print_every\n",
    "            rlv = running_loss_valid/len(dataloaders_valid)\n",
    "            acc = accuracy_valid/len(dataloaders_valid)\n",
    "            \n",
    "            print(f\"Epoch {epoch+1}/{epochs}.. \"\n",
    "                    f\"Train loss: {rlt:.3f}.. \"\n",
    "                    f\"Valid loss: {rlv:.3f}.. \"\n",
    "                    f\"Valid accuracy: {acc:.3f}\")\n",
    "            \n",
    "            train_losses.append(rlt)\n",
    "            valid_losses.append(rlv)\n",
    "            valid_accuracy.append(acc)\n",
    "            \n",
    "            if valid_loss < best_valid_loss:\n",
    "                best_valid_loss = valid_loss\n",
    "\n",
    "                torch.save(model.state_dict(), path)\n",
    "            \n",
    "            # Reinitialize the running_loss to be 0 for the new epoch\n",
    "            running_loss_train = 0"
   ]
  },
  {
   "cell_type": "markdown",
   "metadata": {},
   "source": [
    "Plot the training loss (and validation loss/accuracy, if recorded)."
   ]
  },
  {
   "cell_type": "code",
   "execution_count": 11,
   "metadata": {},
   "outputs": [
    {
     "data": {
      "image/png": "[encoded data removed]",
      "text/plain": [
       "<Figure size 640x480 with 1 Axes>"
      ]
     },
     "metadata": {},
     "output_type": "display_data"
    }
   ],
   "source": [
    "## YOUR CODE HERE ##\n",
    "\n",
    "plt.plot(train_losses, label='train_losses')\n",
    "plt.plot(valid_losses, label='valid_losses')\n",
    "plt.legend()\n",
    "plt.show()\n"
   ]
  },
  {
   "cell_type": "markdown",
   "metadata": {},
   "source": [
    "I am utilizing regularization techniques like dropout and data augmentation but it seems like as the number of epochs grow in the trianing set the training loss takes these abrupt steps down in loss.. I am not really sure what is going on here and would love some help understanding."
   ]
  },
  {
   "cell_type": "code",
   "execution_count": 12,
   "metadata": {},
   "outputs": [
    {
     "data": {
      "image/png": "[encoded data removed]",
      "text/plain": [
       "<Figure size 640x480 with 1 Axes>"
      ]
     },
     "metadata": {},
     "output_type": "display_data"
    }
   ],
   "source": [
    "plt.plot(valid_accuracy, label='valid_accuracy')\n",
    "plt.legend()\n",
    "plt.show()"
   ]
  },
  {
   "cell_type": "markdown",
   "metadata": {},
   "source": [
    "The accuracy appears to grow steadily and then approach an asymoptote around 70% which is what our benchmark algorithm was able to achieve."
   ]
  },
  {
   "cell_type": "code",
   "execution_count": 13,
   "metadata": {},
   "outputs": [
    {
     "data": {
      "text/plain": [
       "0.6801819620253164"
      ]
     },
     "execution_count": 13,
     "metadata": {},
     "output_type": "execute_result"
    }
   ],
   "source": [
    "max(valid_accuracy)"
   ]
  },
  {
   "cell_type": "markdown",
   "metadata": {},
   "source": [
    "## Testing your model\n",
    "Using the previously created `DataLoader` for the test set, compute the percentage of correct predictions using the highest probability prediction. \n",
    "\n",
    "If your accuracy is over 70%, great work! \n",
    "This is a hard task to exceed 70% on.\n",
    "\n",
    "If your accuracy is under 45%, you'll need to make improvements.\n",
    "Go back and check your model architecture, loss function, and optimizer to make sure they're appropriate for an image classification task."
   ]
  },
  {
   "cell_type": "code",
   "execution_count": 14,
   "metadata": {},
   "outputs": [
    {
     "name": "stdout",
     "output_type": "stream",
     "text": [
      "Test accuracy: 0.679\n"
     ]
    }
   ],
   "source": [
    "state_dict = torch.load('models/VGG16_BestModel_XYZ.pth')\n",
    "model = vgg16\n",
    "model.load_state_dict(state_dict)\n",
    "device = torch.device(\"cuda\" if torch.cuda.is_available() else \"cpu\")\n",
    "model.eval()\n",
    "model.to(device)\n",
    "\n",
    "with torch.no_grad():\n",
    "    running_test_loss = 0\n",
    "    test_accuracy = 0\n",
    "    for images_test, labels_test in dataloaders_test:\n",
    "\n",
    "        # Move things over the GPU!\n",
    "        images_test = images_test.to(device)\n",
    "        labels_test = labels_test.to(device)\n",
    "\n",
    "        logps = model(images_test)\n",
    "        test_loss = criterion(logps, labels_test)\n",
    "        running_test_loss += test_loss.item()\n",
    "\n",
    "        # Calculate Accuracy\n",
    "        ps = torch.exp(logps)\n",
    "        top_p, top_class = ps.topk(1, dim=1)\n",
    "        equal = top_class == labels_test.view(*top_class.shape)\n",
    "        test_accuracy += torch.mean(equal.type(torch.FloatTensor)).item()\n",
    "\n",
    "print(f\"Test accuracy: {test_accuracy/len(dataloaders_test):.3f}\")"
   ]
  },
  {
   "cell_type": "markdown",
   "metadata": {},
   "source": [
    "## Saving your model\n",
    "Using `torch.save`, save your model for future loading."
   ]
  },
  {
   "cell_type": "code",
   "execution_count": 15,
   "metadata": {},
   "outputs": [],
   "source": [
    "## YOUR CODE HERE ##\n",
    "# Saved Model in the training section after validation was performed\n",
    "# Saved models go into the \"models\" folder where they can be accessed"
   ]
  },
  {
   "cell_type": "markdown",
   "metadata": {},
   "source": [
    "## Make a Recommendation\n",
    "\n",
    "Based on your evaluation, what is your recommendation on whether to build or buy? Explain your reasoning below."
   ]
  },
  {
   "cell_type": "markdown",
   "metadata": {},
   "source": [
    "The model that I chose to implement was a VGG16 model where the fully connected layer at the end was modified for our scenario. VGG16 is a type of convolutional neural network (CNN) that is very popular with images as it preserves some local structure in the images. I felt that any kind of CNN was approparite for adapting for this project including VGG16 and Resnet50 however Resnet50 is not shown in this notebook as I was getting very low accuracies with that type of model.\n",
    "\n",
    "The model that I was able to adapt to the CIFAR-10 dataset achieved 67.9% accuracy whereas the model that we could purchase for this scenario claims to be able to achieve 70%. With the accuracies of Detectocorp and my algorithm being so close it is difficult to say definitively if we should purchase the algorithm or not. It seems like building a model in house produces accuracies that are on the same level as our purchasable option and with more fine tuning it may be possible to increase our accuracy to some threshold that we deem acceptable."
   ]
  },
  {
   "cell_type": "markdown",
   "metadata": {},
   "source": []
  }
 ],
 "metadata": {
  "kernelspec": {
   "display_name": "Python 3",
   "language": "python",
   "name": "python3"
  },
  "language_info": {
   "codemirror_mode": {
    "name": "ipython",
    "version": 3
   },
   "file_extension": ".py",
   "mimetype": "text/x-python",
   "name": "python",
   "nbconvert_exporter": "python",
   "pygments_lexer": "ipython3",
   "version": "3.11.4"
  }
 },
 "nbformat": 4,
 "nbformat_minor": 4
}
